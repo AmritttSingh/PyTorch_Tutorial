{
  "nbformat": 4,
  "nbformat_minor": 0,
  "metadata": {
    "colab": {
      "provenance": [],
      "gpuType": "T4",
      "authorship_tag": "ABX9TyMoVPEA32z2UmaSKU/uJWGj",
      "include_colab_link": true
    },
    "kernelspec": {
      "name": "python3",
      "display_name": "Python 3"
    },
    "language_info": {
      "name": "python"
    },
    "accelerator": "GPU"
  },
  "cells": [
    {
      "cell_type": "markdown",
      "metadata": {
        "id": "view-in-github",
        "colab_type": "text"
      },
      "source": [
        "<a href=\"https://colab.research.google.com/github/AmritttSingh/PyTorch_Tutorial/blob/main/_1_2.ipynb\" target=\"_parent\"><img src=\"https://colab.research.google.com/assets/colab-badge.svg\" alt=\"Open In Colab\"/></a>"
      ]
    },
    {
      "cell_type": "code",
      "execution_count": 2,
      "metadata": {
        "id": "F7hBxghVZTIG"
      },
      "outputs": [],
      "source": [
        "import torch\n",
        "import numpy as np"
      ]
    },
    {
      "cell_type": "code",
      "source": [
        " my_list = [[1,2,3,4,5],[6,7,8,9,10]]\n",
        " my_list"
      ],
      "metadata": {
        "colab": {
          "base_uri": "https://localhost:8080/"
        },
        "id": "GX6U0GvSZa2P",
        "outputId": "4f488d92-38c2-4e08-f761-bf013d604e1c"
      },
      "execution_count": 3,
      "outputs": [
        {
          "output_type": "execute_result",
          "data": {
            "text/plain": [
              "[[1, 2, 3, 4, 5], [6, 7, 8, 9, 10]]"
            ]
          },
          "metadata": {},
          "execution_count": 3
        }
      ]
    },
    {
      "cell_type": "code",
      "source": [
        "np1= np.random.rand(3,4)\n",
        "np1"
      ],
      "metadata": {
        "colab": {
          "base_uri": "https://localhost:8080/"
        },
        "id": "g7Shck2SZ6dk",
        "outputId": "87a72200-70a6-48c0-a0de-1e7871c000a7"
      },
      "execution_count": 4,
      "outputs": [
        {
          "output_type": "execute_result",
          "data": {
            "text/plain": [
              "array([[0.21002673, 0.46374794, 0.32018719, 0.83141551],\n",
              "       [0.71029939, 0.73074192, 0.33282702, 0.19870946],\n",
              "       [0.15077456, 0.61067627, 0.32833123, 0.91146126]])"
            ]
          },
          "metadata": {},
          "execution_count": 4
        }
      ]
    },
    {
      "cell_type": "code",
      "source": [
        "np1.dtype"
      ],
      "metadata": {
        "colab": {
          "base_uri": "https://localhost:8080/"
        },
        "id": "fMKVvd2TeT5j",
        "outputId": "1673996d-9346-4f2b-bd4d-b821ef194d16"
      },
      "execution_count": 5,
      "outputs": [
        {
          "output_type": "execute_result",
          "data": {
            "text/plain": [
              "dtype('float64')"
            ]
          },
          "metadata": {},
          "execution_count": 5
        }
      ]
    },
    {
      "cell_type": "code",
      "source": [
        "tensor_2d = torch.randn(3,4)\n",
        "tensor_2d"
      ],
      "metadata": {
        "colab": {
          "base_uri": "https://localhost:8080/"
        },
        "id": "GLew2i37eXTW",
        "outputId": "4196915d-4497-406f-f505-205a773f6407"
      },
      "execution_count": 6,
      "outputs": [
        {
          "output_type": "execute_result",
          "data": {
            "text/plain": [
              "tensor([[ 1.2826,  1.8538, -0.4798, -0.1848],\n",
              "        [ 0.6317, -0.3357,  0.7478, -1.2523],\n",
              "        [-1.9556,  0.2722, -0.1278, -0.1459]])"
            ]
          },
          "metadata": {},
          "execution_count": 6
        }
      ]
    },
    {
      "cell_type": "code",
      "source": [
        "tensor_3d = torch.randn(2,3,4)\n",
        "tensor_3d"
      ],
      "metadata": {
        "colab": {
          "base_uri": "https://localhost:8080/"
        },
        "id": "ASophHdWerIE",
        "outputId": "29a97471-bad2-4844-b349-c1a587af0148"
      },
      "execution_count": 8,
      "outputs": [
        {
          "output_type": "execute_result",
          "data": {
            "text/plain": [
              "tensor([[[ 0.3944, -0.6896, -0.8038, -1.3107],\n",
              "         [-0.5716,  1.9820, -0.1271,  0.8687],\n",
              "         [ 3.0792, -0.1261, -0.5248, -0.5763]],\n",
              "\n",
              "        [[-1.0759, -0.2172,  2.9723,  1.1886],\n",
              "         [ 0.5979,  0.0185,  1.0240,  1.6649],\n",
              "         [-0.6999, -0.8366,  0.0209,  0.9615]]])"
            ]
          },
          "metadata": {},
          "execution_count": 8
        }
      ]
    },
    {
      "cell_type": "code",
      "source": [
        "#create tensor out of np array\n",
        "my_tensor = torch.tensor(np1)\n",
        "my_tensor"
      ],
      "metadata": {
        "colab": {
          "base_uri": "https://localhost:8080/"
        },
        "id": "T5wIRlq5ey36",
        "outputId": "005121cc-fae4-4993-836c-ee85965a58bb"
      },
      "execution_count": 9,
      "outputs": [
        {
          "output_type": "execute_result",
          "data": {
            "text/plain": [
              "tensor([[0.2100, 0.4637, 0.3202, 0.8314],\n",
              "        [0.7103, 0.7307, 0.3328, 0.1987],\n",
              "        [0.1508, 0.6107, 0.3283, 0.9115]], dtype=torch.float64)"
            ]
          },
          "metadata": {},
          "execution_count": 9
        }
      ]
    },
    {
      "cell_type": "code",
      "source": [],
      "metadata": {
        "id": "eVVSaTnpfY4U"
      },
      "execution_count": null,
      "outputs": []
    }
  ]
}